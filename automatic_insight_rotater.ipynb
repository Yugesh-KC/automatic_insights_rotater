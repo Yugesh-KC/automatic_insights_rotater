{
  "cells": [
    {
      "cell_type": "code",
      "execution_count": null,
      "metadata": {
        "colab": {
          "base_uri": "https://localhost:8080/"
        },
        "id": "dksdwGoorJep",
        "outputId": "741b4f34-1b96-4d68-9b9d-46373e3fdd5b"
      },
      "outputs": [
        {
          "name": "stdout",
          "output_type": "stream",
          "text": [
            "Page 1: Detected 0° rotation, correcting by 0°.\n",
            "Page 2: Detected 0° rotation, correcting by 0°.\n",
            "Page 3: Detected 0° rotation, correcting by 0°.\n",
            "Page 4: Detected 0° rotation, correcting by 0°.\n",
            "Page 5: Detected 0° rotation, correcting by 0°.\n",
            "Page 6: Detected 0° rotation, correcting by 0°.\n",
            "Page 7: Detected 0° rotation, correcting by 0°.\n",
            "Page 8: Detected 90° rotation, correcting by 90°.\n",
            "Page 9: Detected 90° rotation, correcting by 90°.\n",
            "Page 10: Detected 90° rotation, correcting by 90°.\n",
            "Page 11: Detected 0° rotation, correcting by 0°.\n",
            "Warning: Could not detect rotation. Error: (1, 'Tesseract Open Source OCR Engine v4.1.1 with Leptonica Warning: Invalid resolution 0 dpi. Using 70 instead. Estimating resolution as 353 Too few characters. Skipping this page Warning. Invalid resolution 0 dpi. Using 70 instead. Too few characters. Skipping this page Error during processing.')\n",
            "Page 12: Skipping due to failed rotation detection.\n",
            "Page 13: Detected 90° rotation, correcting by 90°.\n",
            "Page 14: Detected 0° rotation, correcting by 0°.\n",
            "Page 15: Detected 0° rotation, correcting by 0°.\n",
            "Page 16: Detected 90° rotation, correcting by 90°.\n",
            "Page 17: Detected 0° rotation, correcting by 0°.\n",
            "Page 18: Detected 0° rotation, correcting by 0°.\n",
            "Page 19: Detected 0° rotation, correcting by 0°.\n",
            "Page 20: Detected 0° rotation, correcting by 0°.\n",
            "Page 21: Detected 90° rotation, correcting by 90°.\n",
            "Page 22: Detected 90° rotation, correcting by 90°.\n",
            "Page 23: Detected 0° rotation, correcting by 0°.\n",
            "Page 24: Detected 90° rotation, correcting by 90°.\n",
            "Page 25: Detected 0° rotation, correcting by 0°.\n",
            "Page 26: Detected 90° rotation, correcting by 90°.\n",
            "Page 27: Detected 0° rotation, correcting by 0°.\n"
          ]
        }
      ],
      "source": [
        "import fitz\n",
        "import pytesseract\n",
        "from PIL import Image\n",
        "import io\n",
        "\n",
        "def detect_text_rotation(image):\n",
        "    \"\"\"Uses Tesseract OCR to detect text orientation, with error handling.\"\"\"\n",
        "    try:\n",
        "        osd = pytesseract.image_to_osd(image)\n",
        "        angle = int(osd.split(\"\\n\")[1].split(\":\")[-1].strip())  # Extract rotation angle\n",
        "        return angle\n",
        "    except Exception as e:\n",
        "        print(f\"Warning: Could not detect rotation. Error: {e}\")\n",
        "        return None  # Return None if detection fails\n",
        "\n",
        "def nearest_90_degree_rotation(angle):\n",
        "    \"\"\"Rounds the detected angle to the nearest multiple of 90° and returns the correction.\"\"\"\n",
        "    rounded_angle = round(angle / 90) * 90  # Round to nearest 90°\n",
        "    correction =  (rounded_angle % 360)  # Convert to required counter-rotation\n",
        "    return correction if correction != 360 else 0  # If 360, no rotation needed\n",
        "\n",
        "def correct_pdf_rotation(input_pdf, output_pdf):\n",
        "    \"\"\"Detects rotation from images and corrects page orientation accordingly.\"\"\"\n",
        "    doc = fitz.open(input_pdf)\n",
        "    new_doc = fitz.open()\n",
        "    for page_num in range(len(doc)):\n",
        "        page = doc[page_num]\n",
        "        img_list = page.get_images(full=True)\n",
        "\n",
        "        if not img_list:\n",
        "            print(f\"Page {page_num+1}: No image found, copying text page.\")\n",
        "            new_doc.insert_pdf(doc, from_page=page_num, to_page=page_num)  # Copy text pages as they are\n",
        "            continue\n",
        "\n",
        "        try:\n",
        "            # Extract the first image (assuming full-page scan)\n",
        "            xref = img_list[0][0]\n",
        "            base_image = doc.extract_image(xref)\n",
        "            img_bytes = base_image[\"image\"]\n",
        "            img = Image.open(io.BytesIO(img_bytes))\n",
        "\n",
        "            # Detect text rotation\n",
        "            angle = detect_text_rotation(img)\n",
        "            if angle is None:\n",
        "                print(f\"Page {page_num+1}: Skipping due to failed rotation detection.\")\n",
        "                new_doc.insert_pdf(doc, from_page=page_num, to_page=page_num)\n",
        "                continue\n",
        "\n",
        "            # Determine correct rotation\n",
        "            correction = nearest_90_degree_rotation(angle)\n",
        "            print(f\"Page {page_num+1}: Detected {angle}° rotation, correcting by {-correction}°.\")\n",
        "\n",
        "            # Apply correction\n",
        "            if correction != 0:\n",
        "                page.set_rotation(-correction)\n",
        "\n",
        "\n",
        "        except Exception as e:\n",
        "            print(f\"Page {page_num+1}: Error processing page. Skipping. Error: {e}\")\n",
        "\n",
        "        new_doc.insert_pdf(doc, from_page=page_num, to_page=page_num)\n",
        "\n",
        "    new_doc.save(output_pdf)\n",
        "    print(f\"Corrected PDF saved as '{output_pdf}'.\")\n",
        "\n",
        "\n"
      ]
    },
    {
      "cell_type": "code",
      "execution_count": null,
      "metadata": {
        "id": "FDpgMiWDvWT2"
      },
      "outputs": [],
      "source": [
        "# Example usage:\n",
        "input_pdf = \"Ooad.pdf\"\n",
        "output_pdf = \"Ooad_corrected.pdf\"\n",
        "correct_pdf_rotation(input_pdf, output_pdf)"
      ]
    }
  ],
  "metadata": {
    "colab": {
      "provenance": []
    },
    "kernelspec": {
      "display_name": "Python 3",
      "name": "python3"
    },
    "language_info": {
      "name": "python"
    }
  },
  "nbformat": 4,
  "nbformat_minor": 0
}
